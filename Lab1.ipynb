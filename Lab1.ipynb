{
 "cells": [
  {
   "cell_type": "markdown",
   "id": "d0685b04-a495-4a3b-9c40-cef16344ccad",
   "metadata": {
    "editable": false,
    "slideshow": {
     "slide_type": ""
    },
    "tags": []
   },
   "source": [
    "# Заголовок"
   ]
  },
  {
   "cell_type": "code",
   "execution_count": null,
   "id": "e026ecbe-dc98-421e-8ecc-dc880f68f930",
   "metadata": {
    "editable": true,
    "slideshow": {
     "slide_type": ""
    },
    "tags": []
   },
   "outputs": [],
   "source": [
    "цааwefre referer er re fer wefwf уцац wefw  wefw wef we we fw"
   ]
  }
 ],
 "metadata": {
  "kernelspec": {
   "display_name": "Python 3 (ipykernel)",
   "language": "python",
   "name": "python3"
  },
  "language_info": {
   "codemirror_mode": {
    "name": "ipython",
    "version": 3
   },
   "file_extension": ".py",
   "mimetype": "text/x-python",
   "name": "python",
   "nbconvert_exporter": "python",
   "pygments_lexer": "ipython3",
   "version": "3.8.8"
  }
 },
 "nbformat": 4,
 "nbformat_minor": 5
}
